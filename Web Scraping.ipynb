{
 "cells": [
  {
   "cell_type": "code",
   "execution_count": 18,
   "id": "7d2a6745",
   "metadata": {},
   "outputs": [],
   "source": [
    "import requests\n",
    "from bs4 import BeautifulSoup\n",
    "\n",
    "url = \"https://realpython.github.io/fake-jobs/\"\n",
    "page = requests.get(url)\n",
    "\n",
    "html = BeautifulSoup(page.content, \"html.parser\")\n",
    "# print(html.prettify)\n",
    "\n",
    "job_container = html.find(id=\"ResultsContainer\")\n",
    "#print(job_container.prettify)\n",
    "\n",
    "def has_python(text):\n",
    "    return \"python\" in text.lower\n",
    "\n",
    "python_job_titles = job_container.find_all(\"h2\", string=has_python)\n",
    "python_job_elements = [job_titles.parent.parent.parent for title_element in python_job_titles]\n",
    "\n",
    "job_elements = job_container.find_all(\"div\", class_=\"card-content\")\n",
    "\n",
    "for job_element in job_elements:\n",
    "    title_element = job_element.find(\"h2\", class_=\"title\")\n",
    "    company_element = job_element.find(\"h3\", class_=\"company\")\n",
    "    location_element = job_element.find(\"p\", class_=\"location\")\n",
    "    print(title_element.text)\n",
    "    print(company_element.text)\n",
    "    print(location_element.text)\n",
    "    print()\n"
   ]
  }
 ],
 "metadata": {
  "kernelspec": {
   "display_name": "Python 3 (ipykernel)",
   "language": "python",
   "name": "python3"
  },
  "language_info": {
   "codemirror_mode": {
    "name": "ipython",
    "version": 3
   },
   "file_extension": ".py",
   "mimetype": "text/x-python",
   "name": "python",
   "nbconvert_exporter": "python",
   "pygments_lexer": "ipython3",
   "version": "3.10.9"
  }
 },
 "nbformat": 4,
 "nbformat_minor": 5
}
