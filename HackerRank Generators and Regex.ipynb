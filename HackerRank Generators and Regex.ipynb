{
 "cells": [
  {
   "cell_type": "code",
   "execution_count": null,
   "id": "dea7063c",
   "metadata": {},
   "outputs": [],
   "source": [
    "#regex substitution\n",
    "\n",
    "import re\n",
    "\n",
    "sub = int(input())\n",
    "\n",
    "for i in range(0,sub):\n",
    "   line = input()\n",
    "   line = re.sub(r\"\\ \\&\\&\\ \",\" and \",line)\n",
    "   line = re.sub(r\"\\ \\|\\|\\ \",\" or \",line)\n",
    "   line = re.sub(r\"\\ \\&\\&\\ \",\" and \",line)\n",
    "   line = re.sub(r\"\\ \\|\\|\\ \",\" or \",line)\n",
    "   print(line)"
   ]
  },
  {
   "cell_type": "code",
   "execution_count": null,
   "id": "07687bd6",
   "metadata": {},
   "outputs": [],
   "source": [
    "#validating and parsing email addresses \n",
    "\n",
    "import email.utils\n",
    "import re\n",
    "\n",
    "n = int(input())\n",
    "\n",
    "pattern = r'^[a-zA-Z][\\w\\.-]*@[a-zA-Z]+\\.[a-zA-Z]{1,3}$'\n",
    "\n",
    "for _ in range(n):\n",
    "    name, email_address = email.utils.parseaddr(input())\n",
    "    \n",
    "    if re.match(pattern, email_address):\n",
    "        print(email.utils.formataddr((name, email_address)))"
   ]
  }
 ],
 "metadata": {
  "kernelspec": {
   "display_name": "Python 3 (ipykernel)",
   "language": "python",
   "name": "python3"
  },
  "language_info": {
   "codemirror_mode": {
    "name": "ipython",
    "version": 3
   },
   "file_extension": ".py",
   "mimetype": "text/x-python",
   "name": "python",
   "nbconvert_exporter": "python",
   "pygments_lexer": "ipython3",
   "version": "3.10.9"
  }
 },
 "nbformat": 4,
 "nbformat_minor": 5
}
