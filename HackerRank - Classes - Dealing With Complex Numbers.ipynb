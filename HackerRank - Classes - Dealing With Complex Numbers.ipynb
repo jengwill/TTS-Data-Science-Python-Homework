{
 "cells": [
  {
   "cell_type": "code",
   "execution_count": null,
   "id": "64afa509",
   "metadata": {},
   "outputs": [],
   "source": [
    "class Complex(object):\n",
    "    def __init__(self, real, imaginary):\n",
    "        self.real = real\n",
    "        self.imaginary = imaginary\n",
    "\n",
    "    def __add__(self, other):\n",
    "        real = self.real + other.real\n",
    "        imaginary = self.imaginary + other.imaginary\n",
    "        return Complex(real, imaginary)\n",
    "\n",
    "    def __sub__(self, other):\n",
    "        real = self.real - other.real\n",
    "        imaginary = self.imaginary - other.imaginary\n",
    "        return Complex(real, imaginary)\n",
    "\n",
    "    def __mul__(self, other):\n",
    "        real = self.real * other.real - self.imaginary * other.imaginary\n",
    "        imaginary = self.real * other.imaginary + self.imaginary * other.real\n",
    "        return Complex(real, imaginary)\n",
    "\n",
    "    def __truediv__(self, other):\n",
    "        denominator = float(other.real ** 2 + other.imaginary ** 2)\n",
    "        conjugate = Complex(other.real, -other.imaginary)\n",
    "        numerator = self * conjugate\n",
    "        real = numerator.real / denominator\n",
    "        imaginary = numerator.imaginary / denominator\n",
    "        return Complex(real, imaginary)\n",
    "\n",
    "    def mod(self):\n",
    "        real = math.sqrt(self.real ** 2 + self.imaginary ** 2)\n",
    "        return Complex(real, 0)\n",
    "\n",
    "    def __str__(self):\n",
    "        if self.imaginary == 0:\n",
    "            result = \"%.2f+0.00i\" % self.real\n",
    "        elif self.real == 0:\n",
    "            if self.imaginary >= 0:\n",
    "                result = \"0.00+%.2fi\" % self.imaginary\n",
    "            else:\n",
    "                result = \"0.00-%.2fi\" % abs(self.imaginary)\n",
    "        elif self.imaginary > 0:\n",
    "            result = \"%.2f+%.2fi\" % (self.real, self.imaginary)\n",
    "        else:\n",
    "            result = \"%.2f-%.2fi\" % (self.real, abs(self.imaginary))\n",
    "        return result\n",
    "0|"
   ]
  }
 ],
 "metadata": {
  "kernelspec": {
   "display_name": "Python 3 (ipykernel)",
   "language": "python",
   "name": "python3"
  },
  "language_info": {
   "codemirror_mode": {
    "name": "ipython",
    "version": 3
   },
   "file_extension": ".py",
   "mimetype": "text/x-python",
   "name": "python",
   "nbconvert_exporter": "python",
   "pygments_lexer": "ipython3",
   "version": "3.10.9"
  }
 },
 "nbformat": 4,
 "nbformat_minor": 5
}
