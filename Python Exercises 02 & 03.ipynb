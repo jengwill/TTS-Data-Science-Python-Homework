{
 "cells": [
  {
   "cell_type": "markdown",
   "id": "2d19f6f3",
   "metadata": {},
   "source": [
    "<b> 02 and 03 Exercises </b>"
   ]
  },
  {
   "cell_type": "markdown",
   "id": "fc841134",
   "metadata": {},
   "source": [
    "<b> 02 Exercises - Data Structures <b>"
   ]
  },
  {
   "cell_type": "markdown",
   "id": "62ff64de",
   "metadata": {},
   "source": [
    "Take the following two lists. Create a third list by picking a odd-index elements from the first list and even-index elements from the second.\n",
    "\n",
    "listOne = [3, 6, 9, 12, 15, 18, 21]\n",
    "listTwo = [4, 8, 12, 16, 20, 24, 28]"
   ]
  },
  {
   "cell_type": "code",
   "execution_count": null,
   "id": "7554ca94",
   "metadata": {},
   "outputs": [],
   "source": [
    "listOne = [3, 6, 9, 12, 15, 18, 21] #describing the list\n",
    "listTwo = [4, 8, 12, 16, 20, 24, 28]\n",
    "listThree = listOne[1::2] + listTwo[::2] #using :: starting at 1 for the first list for odd indexing and 0 for the second list for even indexing to indicate the step size that I want\n",
    "print(listThree) #asking python to tell me the third list"
   ]
  },
  {
   "cell_type": "markdown",
   "id": "6ab75264",
   "metadata": {},
   "source": [
    "Take the following list. Slice it into three equal chunks and reverse each list.\n",
    "\n",
    "sampleList = [11, 45, 8, 23, 14, 12, 78, 45, 89]"
   ]
  },
  {
   "cell_type": "code",
   "execution_count": null,
   "id": "9f89b102",
   "metadata": {},
   "outputs": [],
   "source": [
    "sampleList = [11, 45, 8, 23, 14, 12, 78, 45, 89]\n",
    "\n",
    "chunks = len(sampleList) // 3  #calculate size of each chunk\n",
    "\n",
    "chunk1 = sampleList[:chunks][::-1]  #reverse the chunks\n",
    "chunk2 = sampleList[chunks:2*chunks][::-1]\n",
    "chunk3 = sampleList[2*chunks:][::-1] \n",
    "\n",
    "print(\"chunk 1:\", chunk1) #printing the chunks\n",
    "print(\"chunk 2:\", chunk2)\n",
    "print(\"chunk 3:\", chunk3)"
   ]
  },
  {
   "cell_type": "markdown",
   "id": "eaa97400",
   "metadata": {},
   "source": [
    "Iterate through a given list and check if a given element already exists in a dictionary as a key’s value. If not, delete it from the list.\n",
    "\n",
    "rollNumber = [47, 64, 69, 37, 76, 83, 95, 97]\n",
    "sampleDict ={'Zach':47, 'Emma':69, 'Kelly':76, 'Jason':97}"
   ]
  },
  {
   "cell_type": "code",
   "execution_count": null,
   "id": "b0f42269",
   "metadata": {},
   "outputs": [],
   "source": [
    "rollNumber = [47, 64, 69, 37, 76, 83, 95, 97] #defining the list\n",
    "sampleDict = {'Zach': 47, 'Emma': 69, 'Kelly': 76, 'Jason': 97} #defining the second one\n",
    "\n",
    "rollNumber = [num for num in rollNumber if num in sampleDict.values()] #checking the numbers in the list and removes ones not in the sampleDict list\n",
    "\n",
    "print(\"New rollNumber list:\", rollNumber) #sending it to our environment"
   ]
  },
  {
   "cell_type": "markdown",
   "id": "b9249698",
   "metadata": {},
   "source": [
    "Write a simple statement to check whether an element exists within a tuple."
   ]
  },
  {
   "cell_type": "code",
   "execution_count": null,
   "id": "73cc5416",
   "metadata": {},
   "outputs": [],
   "source": [
    "tuple = (1, 2, 3, 4, 5) #defining\n",
    "element = 3\n",
    "\n",
    "if element in tuple:\n",
    "    print(\"Element exists in the tuple.\") #making an if/else function for checking elements in the tuple\n",
    "else:\n",
    "    print(\"Element does not exist in the tuple.\")"
   ]
  },
  {
   "cell_type": "markdown",
   "id": "9c3672b7",
   "metadata": {},
   "source": [
    "Write a Python function to multiply all the numbers in a list."
   ]
  },
  {
   "cell_type": "code",
   "execution_count": null,
   "id": "ff578435",
   "metadata": {},
   "outputs": [],
   "source": [
    "def multiply_numbers(numbers): #defines the function\n",
    "    result = 1 #variable stores the numbers\n",
    "    for num in numbers: #multiples the number with the result\n",
    "        result *= num\n",
    "    return result #returns the result"
   ]
  },
  {
   "cell_type": "markdown",
   "id": "646b97a3",
   "metadata": {},
   "source": [
    "Write a Python program to reverse a string. Hint: Use indexing [start:stop:step]"
   ]
  },
  {
   "cell_type": "code",
   "execution_count": null,
   "id": "5e35d7ac",
   "metadata": {},
   "outputs": [],
   "source": [
    "def reversedS(string): #defining\n",
    "    reversedS = string[::-1]  # use slicing with -1 to reverse the string\n",
    "    return reversedS #getting the result"
   ]
  },
  {
   "cell_type": "markdown",
   "id": "c825cadc",
   "metadata": {},
   "source": [
    "Describe the difference between floats, integers, and binarys. Bonus: Describe the difference between precision types (i.e float32 and float64) and the relationship it has with system memory."
   ]
  },
  {
   "cell_type": "markdown",
   "id": "8833225e",
   "metadata": {},
   "source": [
    "Floats: numbers with decimal points\n",
    "Integers: whole numbers\n",
    "Binarys: a numerical system that is used to represent data - only uses 1 or 0\n",
    "Float32: uses 4 bytes of memory to store a float number. Has a smaller range of values than float 32 but because of that it requires less memory.\n",
    "Float64: uses 8 bytes with higher precision but takes up more memory. "
   ]
  },
  {
   "cell_type": "markdown",
   "id": "1105fac8",
   "metadata": {},
   "source": [
    "Describe the difference between a list, tuple, dict, and set."
   ]
  },
  {
   "cell_type": "markdown",
   "id": "e43bd59e",
   "metadata": {},
   "source": [
    "List: ordered objects that are mutable and use square brackets\n",
    "Tuple: immutable ordered objects that use parentheses\n",
    "Dict: mutable objects that have pairs like passwords/usernames. They use braces and are separated by colons\n",
    "Set: mutable objects that are not ordered and do not have duplicates. they use set()"
   ]
  },
  {
   "cell_type": "markdown",
   "id": "85c3d93e",
   "metadata": {},
   "source": [
    "Describe 3 methods or functions that act upon a list, tuple, dict, and strings (12 total). If citing the same method, describe how it might behave differently between data."
   ]
  },
  {
   "cell_type": "markdown",
   "id": "9422d85e",
   "metadata": {},
   "source": [
    "list:\n",
    "1. index() - returns index of first occurance of element in list\n",
    "2. insert() - inserts element \n",
    "3. remove() removes first occurance of element in list\n",
    "tuple:\n",
    "1. index() - returns index of first occurance of element in tuple\n",
    "2. len() - returns number of elements\n",
    "3. copy() - creates copy\n",
    "dict:\n",
    "1. update() - updates dictionary with key-pairs from another dictionary\n",
    "2. remove() - removes key-pairs\n",
    "3. len() - returns numbers of key-pairs\n",
    "string: \n",
    "1. index() - returns index of first occurance of element in string\n",
    "2. upper() - makes all characters uppercase\n",
    "3. len() returns the number of characters"
   ]
  },
  {
   "cell_type": "markdown",
   "id": "8a435dab",
   "metadata": {},
   "source": [
    "<b> 03 Exercises - Control Flow <b>"
   ]
  },
  {
   "cell_type": "markdown",
   "id": "da83b7f2",
   "metadata": {},
   "source": [
    "Use a for-loop, iterate over a list, and print each item.\n",
    "\n",
    "list: [1,2,3,4,5,6,7,8,9]"
   ]
  },
  {
   "cell_type": "code",
   "execution_count": null,
   "id": "4c789431",
   "metadata": {},
   "outputs": [],
   "source": [
    "L = [1, 2, 3, 4, 5, 6, 7, 8, 9] #define\n",
    "\n",
    "for item in L: #for loop used to iterate\n",
    "    print(item, end= ' ') #printing and formatting"
   ]
  },
  {
   "cell_type": "markdown",
   "id": "4e0e9e7c",
   "metadata": {},
   "source": [
    "Using the last code you wrote, print whether the item is even or odd. Hint: Use an if-else sequence and modulus condition."
   ]
  },
  {
   "cell_type": "code",
   "execution_count": null,
   "id": "84d6a899",
   "metadata": {},
   "outputs": [],
   "source": [
    "L = [1, 2, 3, 4, 5, 6, 7, 8, 9]\n",
    "\n",
    "for item in L: #creating a for loop for the list\n",
    "    if item % 2 == 0: #checking if number is divisible by 2 using a modulator to see if even or odd\n",
    "        print(item, \"is even\")\n",
    "    else: #if the number isn't divisible by 2\n",
    "        print(item, \"is odd\")"
   ]
  },
  {
   "cell_type": "markdown",
   "id": "277a4c8d",
   "metadata": {},
   "source": [
    "Using the last code you wrote, break out of the sequence when the for iteration count is greater than 7."
   ]
  },
  {
   "cell_type": "code",
   "execution_count": null,
   "id": "3ff4656d",
   "metadata": {},
   "outputs": [],
   "source": [
    "L = [1, 2, 3, 4, 5, 6, 7, 8, 9]\n",
    "\n",
    "for index in range(len(L)): #utilizing the for loop and using rang(len(L)) to generate sequence\n",
    "    if index > 6: #checks if number is greater than 7\n",
    "        break #if number is greater it stops printing\n",
    "\n",
    "    item = L[index] #assigns value of L to item\n",
    "\n",
    "    if item % 2 == 0: #creating an if else to check even or odd through a modulator\n",
    "        print(item, \"is even\")\n",
    "    else:\n",
    "        print(item, \"is odd\")"
   ]
  },
  {
   "cell_type": "markdown",
   "id": "9cb145d6",
   "metadata": {},
   "source": [
    "Guess a number between 1 to 9 given by the user. Hint: Look into the \"random\" function."
   ]
  },
  {
   "cell_type": "code",
   "execution_count": null,
   "id": "c0ed71db",
   "metadata": {},
   "outputs": [],
   "source": [
    "import random\n",
    "\n",
    "random_number = random.randint(1, 9) #assigned random int \n",
    "\n",
    "while True: #creates loop to have person keep guessing till it's correct\n",
    "    guess = int(input(\"Guess a number between 1 and 9: \")) #convert to int\n",
    "\n",
    "    if guess == random_number: #this makes a loop that creates a break for correct\n",
    "        print(\"Congrats! You guessed the correct number. The number was %g.\" %guess)\n",
    "        break\n",
    "    elif guess < random_number: #will keep generating till break function is reached\n",
    "        print(\"Too low\")\n",
    "    else:\n",
    "        print(\"Too high\")"
   ]
  },
  {
   "cell_type": "markdown",
   "id": "50163b68",
   "metadata": {},
   "source": [
    "Check the validity of password input by the user. It must pass these tests:\n",
    "\n",
    "Minimum of 1 letter between [a-z] and 1 letter between [A-Z]\n",
    "\n",
    "Minimum of 1 number between [0-9]\n",
    "\n",
    "Minimum of 1 character from [$#@]\n",
    "\n",
    "Minimum of 6 total characters\n",
    "\n",
    "Maximum of 16 characters"
   ]
  },
  {
   "cell_type": "code",
   "execution_count": null,
   "id": "088a1972",
   "metadata": {
    "scrolled": true
   },
   "outputs": [],
   "source": [
    "def valid(password): #defining my variable\n",
    "\n",
    "    if not any(char_lower() for char in password) or not any(char_upper() for char in password):\n",
    "        return False\n",
    "#using all of these if statements to create the bounds the password needs to be in\n",
    "    if not any(char_digit() for char in password):\n",
    "        return False\n",
    "#using boolean statements for validating the password\n",
    "    if not any(char in ['$', '#', '@'] for char in password):\n",
    "        return False\n",
    "\n",
    "    if len(password) <= 6 or len(password) >= 16:\n",
    "        return False\n",
    "#using greater than or less than brackets/len to create character bounds\n",
    "    return True\n",
    "\n",
    "password = input(\"Enter a password: \") #creating an if-else for the output\n",
    "\n",
    "if valid(password):\n",
    "    print(\"Password is valid.\")\n",
    "else:\n",
    "    print(\"Password is invalid.\")\n"
   ]
  },
  {
   "cell_type": "markdown",
   "id": "57d4ce96",
   "metadata": {},
   "source": [
    "Get input of the age of 3 people by user and determine oldest and youngest among them"
   ]
  },
  {
   "cell_type": "code",
   "execution_count": null,
   "id": "f8ebc6bb",
   "metadata": {},
   "outputs": [],
   "source": [
    "age1 = int(input(\"Enter the age of person 1: \")) #defining \n",
    "age2 = int(input(\"Enter the age of person 2: \"))\n",
    "age3 = int(input(\"Enter the age of person 3: \"))\n",
    "# pretty simple code - just using max/min functions for main execution\n",
    "oldest = max(age1, age2, age3)\n",
    "youngest = min(age1, age2, age3)\n",
    "\n",
    "print(\"Oldest person's age:\", oldest) \n",
    "print(\"Youngest person's age:\", youngest)"
   ]
  },
  {
   "cell_type": "markdown",
   "id": "49683521",
   "metadata": {},
   "source": [
    "A student will not be allowed to sit in exam if his/her attendance is less than 75%. Print percentage of class attended.\n",
    "\n",
    "Take following input from user: number of classes held, number of classes attended\n",
    "\n",
    "Is student is allowed to sit in exam or not?"
   ]
  },
  {
   "cell_type": "code",
   "execution_count": null,
   "id": "6a713967",
   "metadata": {},
   "outputs": [],
   "source": [
    "held = int(input(\"Enter the number of classes held: \"))\n",
    "attended = int(input(\"Enter the number of classes attended: \"))\n",
    "\n",
    "attendance = (attended / held) * 100 #calculate percentage\n",
    "\n",
    "print(\"Percentage of classes attended:\", attendance) #display percentage\n",
    "\n",
    "if attendance >= 75: #creating perameters \n",
    "    print(\"Student is allowed to sit in exam.\")\n",
    "else:\n",
    "    print(\"Student is not allowed to sit in exam.\")"
   ]
  },
  {
   "cell_type": "markdown",
   "id": "9809d83e",
   "metadata": {},
   "source": [
    "Get an integer N from the user and perform the following actions:\n",
    "\n",
    "if N is odd, print \"weird\"\n",
    "\n",
    "if N is even and in the inclusive range of 2 to 5, print \"Not Weird\"\n",
    "\n",
    "if N is even and in the inclusive range of 6 to 20, print \"Weird\"\n",
    "\n",
    "if N is even and greater than 20, print \"Not Weird\""
   ]
  },
  {
   "cell_type": "code",
   "execution_count": null,
   "id": "5ae304c1",
   "metadata": {},
   "outputs": [],
   "source": [
    "N = int(input(\"Enter an integer: \"))\n",
    "\n",
    "if N % 2 != 0: #check if N is odd\n",
    "    print(\"Weird\")\n",
    "elif N >= 2 and N <= 5: #check if N is even/in the range\n",
    "    print(\"Not Weird\")\n",
    "elif N >= 6 and N <= 20: #check if N is even/in the range\n",
    "    print(\"Weird\")\n",
    "else:  #N is even/greater than 20\n",
    "    print(\"Not Weird\")"
   ]
  },
  {
   "cell_type": "markdown",
   "id": "4981afa6",
   "metadata": {},
   "source": [
    "Define \"recursion\""
   ]
  },
  {
   "cell_type": "markdown",
   "id": "2f799c6d",
   "metadata": {},
   "source": [
    "a function calls back onto itself breaks down the problem into smaller sub-problems "
   ]
  },
  {
   "cell_type": "markdown",
   "id": "37446795",
   "metadata": {},
   "source": [
    "Describe the difference between a for-loop and while-loop"
   ]
  },
  {
   "cell_type": "markdown",
   "id": "02abbd31",
   "metadata": {},
   "source": [
    "for loop is used when you know what goes next and want it to be finite and a while loop is more flexible"
   ]
  },
  {
   "cell_type": "markdown",
   "id": "a4726330",
   "metadata": {},
   "source": [
    "Describe what \"global i\" refers to in the following code, and how it differs from local i."
   ]
  },
  {
   "cell_type": "code",
   "execution_count": null,
   "id": "2c17bb30",
   "metadata": {},
   "outputs": [],
   "source": [
    "i=2\n",
    "print(i)\n",
    "\n",
    "def nothing():\n",
    "    global i\n",
    "    i=5      \n",
    "    print(i)\n",
    "nothing()\n",
    "print(i)\n",
    "\n",
    "#the global i is set to 2 before a function is defined\n",
    "#the nothing() function indicates the system should use the global i instead of creating a new one\n",
    "#it outputs 2, 5, 5 because 2 is printed then all functions after that adhere to the 5 definition"
   ]
  },
  {
   "cell_type": "markdown",
   "id": "99bbec99",
   "metadata": {},
   "source": [
    "Comment the following code."
   ]
  },
  {
   "cell_type": "code",
   "execution_count": null,
   "id": "181d5fa6",
   "metadata": {},
   "outputs": [],
   "source": [
    "a, b = 0, 1 #creates fibancci sequence\n",
    "amax = 100 #max is 100\n",
    "L = [] #empty list for fibonacci \n",
    "\n",
    "while True: #infinite loop \n",
    "    (a, b) = (b, a + b) #0,1 = 1, 0+1\n",
    "    if a > amax: #asking the loop to adhere to our previous specifications\n",
    "        break #stop generating if this limit is reached\n",
    "    L.append(a) #appends a to the list L\n",
    "\n",
    "print(L)"
   ]
  },
  {
   "cell_type": "markdown",
   "id": "f417cd5b",
   "metadata": {},
   "source": [
    "<b> Bonus Exercises </b>"
   ]
  },
  {
   "cell_type": "markdown",
   "id": "5eea9b56",
   "metadata": {},
   "source": [
    "Bonus: Write a Python function to convert a tuple to a string."
   ]
  },
  {
   "cell_type": "code",
   "execution_count": null,
   "id": "dd50e2f8",
   "metadata": {},
   "outputs": [],
   "source": [
    "def tuple_string(tuple): #making my own variable and defining it within tuple\n",
    "    string = \"\" #empty string to build final representation \n",
    "    for item in tuple: #starts loop\n",
    "        string += str(item) #tuple converted to string\n",
    "    return string #returning to the system"
   ]
  },
  {
   "cell_type": "markdown",
   "id": "8b6604eb",
   "metadata": {},
   "source": [
    "Bonus: Write a Python program to print a tuple with string formatting. You will need to look into print function parameters and string formatting methods."
   ]
  },
  {
   "cell_type": "code",
   "execution_count": null,
   "id": "10aa0dab",
   "metadata": {},
   "outputs": [],
   "source": [
    "my_tuple = (2, 4, 6, 8) #defining the tuple\n",
    "\n",
    "formatS = f\"The tuple values are: {', '.join(str(item) for item in my_tuple)}\" \n",
    "#i used join to link them together\n",
    "#using an f string to make embed expressions and utilizing a for loop to convert to a string\n",
    "\n",
    "print(formatS)"
   ]
  },
  {
   "cell_type": "markdown",
   "id": "d22b9747",
   "metadata": {},
   "source": [
    "Bonus: Define what a \"hash\" is. Then, get a space-separated list of integers from the user, create a tuple of those integers. Then compute and print the result of hash(tuple).  [Hint](https://docs.python.org/3/library/functions.html#hash). **Hash()**\n",
    "\n",
    "A **[hash](https://en.wikipedia.org/wiki/Hash_function)** is an fixed sized integer that identifies a particular value. Each value needs to have its own hash, so for the same value you will get the same hash even if it's not the same object."
   ]
  },
  {
   "cell_type": "markdown",
   "id": "9190f5b2",
   "metadata": {},
   "source": [
    "i don't know why but this one in particular tripped me up. Since it's a bonus I'd rather not look it up but would like to go over this one if you have time/am looking forward to the explanation. "
   ]
  },
  {
   "cell_type": "markdown",
   "id": "4cf6ba94",
   "metadata": {},
   "source": [
    "Bonus: In mathematics, the quadratic equation ax2+bx+c=0 can be solved with the formula x=−b±√((b2−4ac)/2a).\n",
    "\n",
    "Write a function solve_quadratic, that returns both solutions of a generic quadratic as a pair (2-tuple) when the coefficients are given as parameters. It should work like this:\n",
    "\n",
    "print(solve_quadratic(1,-3,2))\n",
    "(2.0,1.0)\n",
    "print(solve_quadratic(1,2,1))\n",
    "(-1.0,-1.0)\n",
    "You may want to use the math.sqrt function from the math module in your solution. Test that your function works in the main function!"
   ]
  },
  {
   "cell_type": "code",
   "execution_count": null,
   "id": "23b36302",
   "metadata": {},
   "outputs": [],
   "source": [
    "import math #importing math function to eb able to use sqrt() function\n",
    "\n",
    "def solve_quadratic(a, b, c): #defining the variable\n",
    "    discriminant = b**2 - 4*a*c  #calculating the discriminant\n",
    "    if discriminant >= 0: #if it is greater than or equal to 0 we move on\n",
    "        #creating an if else for our binary circumstance\n",
    "        sqrt_discriminant = math.sqrt(discriminant)\n",
    "        x1 = (-b + sqrt_discriminant) / (2*a) #calculate 2 solutions and return as tuple\n",
    "        x2 = (-b - sqrt_discriminant) / (2*a)\n",
    "        return (x1, x2)\n",
    "    else:\n",
    "        return None #if there is no option it returns none"
   ]
  },
  {
   "cell_type": "markdown",
   "id": "09eb1a66",
   "metadata": {},
   "source": [
    "Bonus: Write a Python function that accepts a string and calculate the number of upper case letters and lower case letters."
   ]
  },
  {
   "cell_type": "code",
   "execution_count": null,
   "id": "fb698d22",
   "metadata": {},
   "outputs": [],
   "source": [
    "def count_(string): #defining\n",
    "    upper_count = 0 #keep track of letters\n",
    "    lower_count = 0\n",
    "\n",
    "    for char in string: #creating a for loop with an..\n",
    "        if char_is_up(): #if to initalize one of the functions\n",
    "            upper_count += 1\n",
    "        elif char_is_low(): #and an elif to initialize the other\n",
    "            lower_count += 1\n",
    "\n",
    "    return upper_count, lower_count #returning it to the system"
   ]
  },
  {
   "cell_type": "markdown",
   "id": "9c555a0e",
   "metadata": {},
   "source": [
    "<b> Final Bonus: Recursion </b>\n",
    "\n",
    "Tower of Hanoi (Python Program)\n",
    "\n",
    "Tower of Hanoi is a mathematical puzzle where we have three rods and n disks. The objective of the puzzle is to move the entire stack to another rod, obeying the following simple rules:\n",
    "\n",
    "Only one disk can be moved at a time.\n",
    "Each move consists of taking the upper disk from one of the stacks and placing it on top of another stack i.e. a disk can only be moved if it is the uppermost disk on a stack.\n",
    "No disk may be placed on top of a smaller disk.\n",
    "Note: Transferring the top n-1 disks from source rod to Auxilliary rod can again be thought of as a fresh problem and can be solved in the same manner.\n",
    "\n",
    "See image and solution in Notebook-Python-0303. "
   ]
  },
  {
   "cell_type": "code",
   "execution_count": null,
   "id": "6640ab46",
   "metadata": {},
   "outputs": [],
   "source": [
    "def tower_of_hanoi(n, source, auxiliary, destination): #defines functions/parameters\n",
    "    if n > 0:\n",
    "        tower_of_hanoi(n - 1, source, destination, auxiliary)\n",
    "        #moves n-1 disks from source to destination to auxiliary\n",
    "        \n",
    "        print(\"Move disk\", n, \"from\", source, \"to\", destination)\n",
    "        #prints the moves\n",
    "\n",
    "        tower_of_hanoi(n - 1, auxiliary, source, destination)\n",
    "        #moves n-1 disks from auxiliary to source to destination\n",
    "\n",
    "n = int(input(\"Enter the number of disks: \")) #prompt user input\n",
    "tower_of_hanoi(n, 'A', 'B', 'C') #defining the labels\n",
    "\n",
    "#this was annoying but not as annoying as I expected"
   ]
  },
  {
   "cell_type": "code",
   "execution_count": null,
   "id": "48247a76",
   "metadata": {},
   "outputs": [],
   "source": []
  }
 ],
 "metadata": {
  "kernelspec": {
   "display_name": "Python 3 (ipykernel)",
   "language": "python",
   "name": "python3"
  },
  "language_info": {
   "codemirror_mode": {
    "name": "ipython",
    "version": 3
   },
   "file_extension": ".py",
   "mimetype": "text/x-python",
   "name": "python",
   "nbconvert_exporter": "python",
   "pygments_lexer": "ipython3",
   "version": "3.10.9"
  }
 },
 "nbformat": 4,
 "nbformat_minor": 5
}
