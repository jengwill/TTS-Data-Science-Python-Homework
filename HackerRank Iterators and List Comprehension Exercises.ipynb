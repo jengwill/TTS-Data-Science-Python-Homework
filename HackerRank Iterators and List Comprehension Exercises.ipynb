{
 "cells": [
  {
   "cell_type": "code",
   "execution_count": null,
   "id": "246f7b24",
   "metadata": {},
   "outputs": [],
   "source": [
    "#itertools.product()\n",
    "\n",
    "A = list(map(int, input().split()))\n",
    "B = list(map(int, input().split()))\n",
    "\n",
    "cartesian_product = []\n",
    "for a in A:\n",
    "    for b in B:\n",
    "        cartesian_product.append((a, b))\n",
    "\n",
    "for pair in cartesian_product:\n",
    "    print(pair, end=\" \")"
   ]
  },
  {
   "cell_type": "code",
   "execution_count": null,
   "id": "5792f868",
   "metadata": {},
   "outputs": [],
   "source": [
    "#itertools.permutations()\n",
    "\n",
    "from itertools import permutations\n",
    "\n",
    "S, k = input().split()\n",
    "k = int(k)\n",
    "\n",
    "permutations_list = sorted(list(permutations(S, k)))\n",
    "\n",
    "for perm in permutations_list:\n",
    "    print(''.join(perm))"
   ]
  },
  {
   "cell_type": "code",
   "execution_count": null,
   "id": "07e04ab6",
   "metadata": {},
   "outputs": [],
   "source": [
    "#itertools.combinations_with_replacement()\n",
    "\n",
    "from itertools import combinations_with_replacement\n",
    "\n",
    "S, k = input().split()\n",
    "\n",
    "print(*[''.join(i) for i in combinations_with_replacement(sorted(s), int(k))], sep=\"\\k\")"
   ]
  }
 ],
 "metadata": {
  "kernelspec": {
   "display_name": "Python 3 (ipykernel)",
   "language": "python",
   "name": "python3"
  },
  "language_info": {
   "codemirror_mode": {
    "name": "ipython",
    "version": 3
   },
   "file_extension": ".py",
   "mimetype": "text/x-python",
   "name": "python",
   "nbconvert_exporter": "python",
   "pygments_lexer": "ipython3",
   "version": "3.10.9"
  }
 },
 "nbformat": 4,
 "nbformat_minor": 5
}
